{
 "cells": [
  {
   "cell_type": "markdown",
   "metadata": {},
   "source": [
    "## Scipy FFTPack"
   ]
  },
  {
   "cell_type": "markdown",
   "metadata": {
    "collapsed": true
   },
   "source": [
    "#### One dimensional DFT"
   ]
  },
  {
   "cell_type": "markdown",
   "metadata": {},
   "source": [
    "The FFT y[k] of length NN of the length-NN sequence x[n] is defined as\n",
    "\n",
    "\\begin{align}\n",
    "y[k] = \\sum_{n=0}^{N-1} e^{-2 \\pi j \\frac{k n}{N} } x[n] \\, ,\n",
    "\\end{align}\n",
    "<br>"
   ]
  },
  {
   "cell_type": "markdown",
   "metadata": {},
   "source": [
    "and the inverse transform is defined as follows\n",
    "\\begin{align}\n",
    "x[n] = \\frac{1}{N} \\sum_{k=0}^{N-1} e^{2 \\pi j \\frac{k n}{N} } y[k] \\, .\n",
    "\\end{align}\n"
   ]
  },
  {
   "cell_type": "code",
   "execution_count": null,
   "metadata": {
    "collapsed": true
   },
   "outputs": [],
   "source": [
    "%matplotlib inline"
   ]
  },
  {
   "cell_type": "code",
   "execution_count": null,
   "metadata": {
    "collapsed": false
   },
   "outputs": [],
   "source": [
    "from scipy.fftpack import fft, ifft\n",
    "import numpy as np\n",
    "\n",
    "x = np.array([1.0, 2.0, 1.0, -1.0, 1.5])\n",
    "y = fft(x)\n",
    "y\n"
   ]
  },
  {
   "cell_type": "code",
   "execution_count": null,
   "metadata": {
    "collapsed": false
   },
   "outputs": [],
   "source": [
    "yinv = ifft(y)\n",
    "yinv"
   ]
  },
  {
   "cell_type": "markdown",
   "metadata": {},
   "source": [
    "For N even, the elements y[1]...y[N/2−1] contain the positive-frequency terms, and the elements y[N/2]...y[N−1] contain the negative-frequency terms, in order of decreasingly negative frequency. For N odd, the elements y[1]...y[(N−1)/2] contain the positive- frequency terms, and the elements y[(N+1)/2]...y[N−1] contain the negative- frequency terms, in order of decreasingly negative frequency."
   ]
  },
  {
   "cell_type": "markdown",
   "metadata": {},
   "source": [
    "In case the sequence x is real-valued, the values of y[n] for positive frequencies is the conjugate of the values y[n] for negative frequencies (because the spectrum is symmetric). Typically, only the FFT corresponding to positive frequencies is plotted."
   ]
  },
  {
   "cell_type": "code",
   "execution_count": null,
   "metadata": {
    "collapsed": false
   },
   "outputs": [],
   "source": [
    "from scipy.fftpack import fft\n",
    "N = 600\n",
    "T = 1.0/800.0\n",
    "x = np.linspace(0.0, N*T,N)\n",
    "y = np.sin(50.0 * 2.0 * np.pi *x) + 0.5 * np.sin(80.0 * 2.0 * np.pi * x)\n",
    "yf = fft(y)\n",
    "xf = np.linspace(0.0, 1.0/(2.0*T), N//2)\n",
    "\n",
    "import matplotlib.pyplot as plt\n",
    "plt.plot(xf, 2.0/N*np.abs(yf[0:N//2]))\n",
    "plt.grid()\n",
    "plt.show()"
   ]
  },
  {
   "cell_type": "markdown",
   "metadata": {},
   "source": [
    "The FFT input signal is inherently truncated. This truncation can be modelled as multiplication of an infinite signal with a rectangular window function. In the spectral domain this multiplication becomes convolution of the signal spectrum with the window function spectrum, being of form \\sin(x)/x. This convolution is the cause of an effect called spectral <b>leakage</b> (see [WPW]). Windowing the signal with a dedicated window function helps mitigate spectral leakage. The example below uses a Blackman window from scipy.signal and shows the effect of windowing (the zero component of the FFT has been truncated for illustrative purposes)."
   ]
  },
  {
   "cell_type": "code",
   "execution_count": 11,
   "metadata": {
    "collapsed": false
   },
   "outputs": [
    {
     "data": {
      "image/png": "[encoded data removed]",
      "text/plain": [
       "<matplotlib.figure.Figure at 0x7fc7fe55b450>"
      ]
     },
     "metadata": {},
     "output_type": "display_data"
    }
   ],
   "source": [
    "from scipy.fftpack import fft\n",
    "N = 600 # number of sample points\n",
    "T = 1.0/800.0 # sample spacing\n",
    "x = np.linspace(0.0, N*T, N)\n",
    "y = np.sin(50.0 * 2.0 * np.pi * x) + 0.5 * np.sin(80.0 * 2.0 * np.pi * x)\n",
    "yf = fft(y)\n",
    "\n",
    "from scipy.signal import blackman\n",
    "w = blackman(N)\n",
    "ywf = fft(y*w)\n",
    "xf = np.linspace(0.0, 1.0/(2.0*T), N/2)\n",
    "\n",
    "import matplotlib.pyplot as plt\n",
    "plt.semilogy(xf[1:N//2], 2.0/N * np.abs(yf[1:N//2]), '-b')\n",
    "plt.semilogy(xf[1:N//2], 2.0/N * np.abs(ywf[1:N//2]), '-r')\n",
    "plt.legend(['FFT', 'FFT w. window'])\n",
    "plt.grid()\n",
    "plt.show()\n",
    "\n"
   ]
  },
  {
   "cell_type": "markdown",
   "metadata": {},
   "source": [
    "In case the sequence x is complex-valued, the spectrum is no longer symmetric. To simplify working with the FFT functions, scipy provicdes the flollowing two helper functions.\n",
    "<br>The function <b>fftfreq</b> returns the FFT sample frequency points\n",
    "<br>The function <b>fftshift</b> returns the swapping the lower and upper halves of a vector."
   ]
  },
  {
   "cell_type": "markdown",
   "metadata": {},
   "source": [
    "The example below plots the FFT of two complex exponentials; note the asymmetric spectrum."
   ]
  },
  {
   "cell_type": "code",
   "execution_count": 13,
   "metadata": {
    "collapsed": false
   },
   "outputs": [
    {
     "data": {
      "image/png": "[encoded data removed]",
      "text/plain": [
       "<matplotlib.figure.Figure at 0x7fc7f35cb410>"
      ]
     },
     "metadata": {},
     "output_type": "display_data"
    }
   ],
   "source": [
    "from scipy.fftpack import fft, fftfreq, fftshift\n",
    "N = 400\n",
    "T = 1.0/800.0\n",
    "x = np.linspace(0.0, N*T, N)\n",
    "y = np.exp(50.0 * 1.j * 2.0 * np.pi * x) + 0.5 * np.exp(-80.0 * 1.j * 2.0 * np.pi * x)\n",
    "yf = fft(y)\n",
    "xf = fftfreq(N, T)\n",
    "xf = fftshift(xf)\n",
    "yplot = fftshift(yf)\n",
    "\n",
    "import matplotlib.pyplot as plt\n",
    "plt.plot(xf, 1.0/N * np.abs(yplot))\n",
    "plt.grid()\n",
    "plt.show()"
   ]
  },
  {
   "cell_type": "markdown",
   "metadata": {},
   "source": [
    "The function <b>rfft</b> calculates the FFT of a real sequence and outputs the FFT coefficients y[n] with separate real and imaginary parts. In case of N being even: [y[0], Re(y[1]), Im(y[1]),..., Re(y[N/2])]; in case N being odd [y[0], Re(y[1]),Im(y[1]),..., Re(y[N/2]),\n",
    "Im(y[N/2])].\n",
    "\n",
    "The corresponding function <b>irfft</b> calculates the IFFT of the FFT coefficients with this special ordering."
   ]
  },
  {
   "cell_type": "code",
   "execution_count": 14,
   "metadata": {
    "collapsed": false
   },
   "outputs": [
    {
     "data": {
      "text/plain": [
       "array([ 5.50+0.j        ,  2.25-0.4330127j , -2.75-1.29903811j,\n",
       "        1.50+0.j        , -2.75+1.29903811j,  2.25+0.4330127j ])"
      ]
     },
     "execution_count": 14,
     "metadata": {},
     "output_type": "execute_result"
    }
   ],
   "source": [
    "from scipy.fftpack import fft, rfft, irfft\n",
    "x = np.array([1.0, 2.0, 1.0, -1.0, 1.5, 1.0])\n",
    "fft(x)"
   ]
  },
  {
   "cell_type": "code",
   "execution_count": 19,
   "metadata": {
    "collapsed": false
   },
   "outputs": [],
   "source": [
    "yr = rfft(x)"
   ]
  },
  {
   "cell_type": "code",
   "execution_count": 20,
   "metadata": {
    "collapsed": false
   },
   "outputs": [
    {
     "data": {
      "text/plain": [
       "array([ 1. ,  2. ,  1. , -1. ,  1.5])"
      ]
     },
     "execution_count": 20,
     "metadata": {},
     "output_type": "execute_result"
    }
   ],
   "source": [
    "irfft(yr)"
   ]
  },
  {
   "cell_type": "code",
   "execution_count": 21,
   "metadata": {
    "collapsed": false
   },
   "outputs": [
    {
     "data": {
      "text/plain": [
       "array([ 4.50000000+0.j        ,  2.08155948-1.65109876j,\n",
       "       -1.83155948+1.60822041j, -1.83155948-1.60822041j,\n",
       "        2.08155948+1.65109876j])"
      ]
     },
     "execution_count": 21,
     "metadata": {},
     "output_type": "execute_result"
    }
   ],
   "source": [
    "x = np.array([1.0, 2.0, 1.0, -1.0, 1.5])\n",
    "fft(x)"
   ]
  },
  {
   "cell_type": "code",
   "execution_count": 22,
   "metadata": {
    "collapsed": false
   },
   "outputs": [
    {
     "data": {
      "text/plain": [
       "array([ 4.5       ,  2.08155948, -1.65109876, -1.83155948,  1.60822041])"
      ]
     },
     "execution_count": 22,
     "metadata": {},
     "output_type": "execute_result"
    }
   ],
   "source": [
    "rfft(x)"
   ]
  },
  {
   "cell_type": "markdown",
   "metadata": {},
   "source": [
    "#### Two and n-dimensional DFT"
   ]
  },
  {
   "cell_type": "markdown",
   "metadata": {},
   "source": [
    "The functions <b>fft2, ifft2</b> provide 2-dimensional FFT and IFFT, respectively. Similar, <b>fftn, ifftn</b> provide n-dimensional FFT and IFFT respectively.\n",
    "<br>\n",
    "The example below demonstrates a 20dimensional IFFT and plots the resulting time-domain signals."
   ]
  },
  {
   "cell_type": "code",
   "execution_count": 24,
   "metadata": {
    "collapsed": false,
    "scrolled": true
   },
   "outputs": [
    {
     "data": {
      "image/png": "[encoded data removed]",
      "text/plain": [
       "<matplotlib.figure.Figure at 0x7fc7f3141090>"
      ]
     },
     "metadata": {},
     "output_type": "display_data"
    }
   ],
   "source": [
    "from scipy.fftpack import ifftn\n",
    "import matplotlib.pyplot as plt\n",
    "import matplotlib.cm as cm\n",
    "N= 30\n",
    "f, ((ax1, ax2, ax3), (ax4, ax5, ax6)) = plt.subplots(2, 3, sharex='col', sharey='row')\n",
    "xf = np.zeros((N,N))\n",
    "xf[0, 5] = 1\n",
    "xf[0, N-5] = 1\n",
    "Z = ifftn(xf)\n",
    "ax1.imshow(xf, cmap=cm.Reds)\n",
    "ax4.imshow(np.real(Z), cmap=cm.gray)\n",
    "xf = np.zeros((N, N))\n",
    "xf[5, 0] = 1\n",
    "xf[N-5, 0] = 1\n",
    "Z = ifftn(xf)\n",
    "ax2.imshow(xf, cmap=cm.Reds)\n",
    "ax5.imshow(np.real(Z), cmap=cm.gray)\n",
    "xf = np.zeros((N, N))\n",
    "xf[5, 10] = 1\n",
    "xf[N-5, N-10] = 1\n",
    "Z = ifftn(xf)\n",
    "ax3.imshow(xf, cmap=cm.Reds)\n",
    "ax6.imshow(np.real(Z), cmap=cm.gray)\n",
    "plt.show()"
   ]
  },
  {
   "cell_type": "markdown",
   "metadata": {},
   "source": [
    "### Discrete Cosine Transforms"
   ]
  },
  {
   "cell_type": "markdown",
   "metadata": {},
   "source": [
    "Scipy provides a DCT with the function dct and a corresponding IDCT with the function idct. There are 8 types of the DCT [WPC], [Mak]; however, only the first 3 types are implemented in scipy. “The” DCT generally refers to DCT type 2, and “the” Inverse DCT generally refers to DCT type 3. In addition, the DCT coefficients can be normalized differently (for most types, scipy provides None and ortho). Two parameters of the dct/idct function calls allow setting the DCT type and coefficient normalization.\n",
    "\n",
    "For a single dimension array x, dct(x, norm=’ortho’) is equal to MATLAB dct(x).\n",
    "\n"
   ]
  },
  {
   "cell_type": "markdown",
   "metadata": {},
   "source": [
    "#### Type I DCT"
   ]
  },
  {
   "cell_type": "markdown",
   "metadata": {},
   "source": [
    "Scipy uses the following definition of the unnormalized DCT-I (norm='None'):\n",
    "\\begin{align}\n",
    "y[k] = x_0 + (-1)^k x_{N-1} + 2\\sum_{n=1}^{N-2} x[n]\n",
    "\\cos\\left({\\pi nk\\over N-1}\\right),\n",
    "\\qquad 0 \\le k < N.\n",
    "\\end{align}\n",
    "Only None is supported as normalization mode for DCT-I. Note also that the DCT-I is only supported for input size > 1"
   ]
  },
  {
   "cell_type": "markdown",
   "metadata": {},
   "source": [
    "#### Type II DCT"
   ]
  },
  {
   "cell_type": "markdown",
   "metadata": {},
   "source": [
    "Scipy uses the following definition of the unnormalized DCT-II (norm='None'):\n",
    "\\begin{align}\n",
    "y[k] = 2 \\sum_{n=0}^{N-1} x[n] \\cos \\left({\\pi(2n+1)k \\over 2N} \\right)\n",
    "\\qquad 0 \\le k < N.\n",
    "\\end{align}\n",
    "<br>\n",
    "In case of the normalized DCT (norm='ortho'), the DCT coefficients y[k] are multiplied by a scaling factor f:\n",
    "\\begin{split}f = \\begin{cases} \\sqrt{1/(4N)}, & \\text{if $k = 0$} \\\\    \\sqrt{1/(2N)},\n",
    "& \\text{otherwise} \\end{cases} \\, .\\end{split}\n",
    "\n",
    "In this case, the DCT “base functions” \n",
    "\\begin{align} \n",
    "\\phi_k[n] = 2 f \\cos \\left({\\pi(2n+1)k \\over 2N} \\right) \n",
    "\\end{align} become orthonormal:\n",
    "\\begin{align}\n",
    "\\sum_{n=0}^{N-1} \\phi_k[n] \\phi_l[n] = \\delta_{lk}\n",
    "\\end{align}"
   ]
  },
  {
   "cell_type": "markdown",
   "metadata": {},
   "source": [
    "#### Type III DCT"
   ]
  },
  {
   "cell_type": "markdown",
   "metadata": {},
   "source": [
    "Scipy uses the following definition of the unnormalized DCT-III (norm='None'):\n",
    "\\begin{align}\n",
    "y[k] = x_0 + 2 \\sum_{n=1}^{N-1} x[n] \\cos\\left({\\pi n(2k+1) \\over 2N}\\right)\n",
    "\\qquad 0 \\le k < N,\n",
    "\\end{align}\n",
    "or, for norm='ortho':\n",
    "\\begin{align}\n",
    "y[k] = {x_0\\over\\sqrt{N}} + {2\\over\\sqrt{N}} \\sum_{n=1}^{N-1} x[n]\n",
    "\\cos\\left({\\pi n(2k+1) \\over 2N}\\right) \\qquad 0 \\le k < N.\n",
    "\\end{align}"
   ]
  },
  {
   "cell_type": "markdown",
   "metadata": {},
   "source": [
    "The (unnormalized) DCT-III is the inverse of the (unnormalized) DCT-II, up to a factor 2N. The orthonormalized DCT-III is exactly the inverse of the orthonormalized DCT- II. The function idct performs the mappings between the DCT and IDCT types.\n",
    "\n",
    "The example below shows the relation between DCT and IDCT for different types and normalizations."
   ]
  },
  {
   "cell_type": "code",
   "execution_count": 25,
   "metadata": {
    "collapsed": false
   },
   "outputs": [
    {
     "data": {
      "text/plain": [
       "array([ 1. ,  2. ,  1. , -1. ,  1.5])"
      ]
     },
     "execution_count": 25,
     "metadata": {},
     "output_type": "execute_result"
    }
   ],
   "source": [
    "from scipy.fftpack import dct, idct\n",
    "x = np.array([1.0, 2.0, 1.0, -1.0, 1.5])\n",
    "dct(dct(x, type=2, norm='ortho'), type=3, norm='ortho')"
   ]
  },
  {
   "cell_type": "code",
   "execution_count": 26,
   "metadata": {
    "collapsed": false
   },
   "outputs": [
    {
     "data": {
      "text/plain": [
       "array([ 10.,  20.,  10., -10.,  15.])"
      ]
     },
     "execution_count": 26,
     "metadata": {},
     "output_type": "execute_result"
    }
   ],
   "source": [
    "idct(dct(x, type=2), type=2) # scaling factor 2 * N = 10"
   ]
  },
  {
   "cell_type": "code",
   "execution_count": 28,
   "metadata": {
    "collapsed": false
   },
   "outputs": [
    {
     "data": {
      "text/plain": [
       "array([ 1. ,  2. ,  1. , -1. ,  1.5])"
      ]
     },
     "execution_count": 28,
     "metadata": {},
     "output_type": "execute_result"
    }
   ],
   "source": [
    "idct(dct(x, type=3, norm='ortho'), type=3, norm='ortho') # no scaling"
   ]
  },
  {
   "cell_type": "code",
   "execution_count": 29,
   "metadata": {
    "collapsed": false
   },
   "outputs": [
    {
     "data": {
      "text/plain": [
       "array([  8.,  16.,   8.,  -8.,  12.])"
      ]
     },
     "execution_count": 29,
     "metadata": {},
     "output_type": "execute_result"
    }
   ],
   "source": [
    "idct(dct(x, type=1), type = 1) # scaling factor 2*(N-1) = 8"
   ]
  },
  {
   "cell_type": "markdown",
   "metadata": {},
   "source": [
    "The DCT exhibits the “energy compaction property”, meaning that for many signals only the first few DCT coefficients have significant magnitude. Zeroing out the other coefficients leads to a small reconstruction error, a fact which is exploited in lossy signal compression (e.g. JPEG compression).\n",
    "\n",
    "The example below shows a signal x and two reconstructions (x20x20 and x15x15)from the signal’s DCT coefficients. The signal x20x20 is reconstructed from the first 20 DCT coefficients, x15x15 is reconstructed from the first 15 DCT coefficients. It can be seen that the relative error of using 20 coefficients is still very small (~0.1%), but provides a five-fold compression rate."
   ]
  },
  {
   "cell_type": "code",
   "execution_count": 30,
   "metadata": {
    "collapsed": false
   },
   "outputs": [
    {
     "data": {
      "text/plain": [
       "0.0010901402257005154"
      ]
     },
     "execution_count": 30,
     "metadata": {},
     "output_type": "execute_result"
    }
   ],
   "source": [
    "from scipy.fftpack import dct, idct\n",
    "import matplotlib.pyplot as plt\n",
    "N = 100\n",
    "t = np.linspace(0, 20, N)\n",
    "x = np.exp(-t/3) * np.cos(2*t)\n",
    "y = dct(x, norm='ortho')\n",
    "window = np.zeros(N)\n",
    "window[:20] = 1\n",
    "yr = idct(y*window, norm='ortho')\n",
    "sum(abs(x-yr)**2)/sum(abs(x)**2)"
   ]
  },
  {
   "cell_type": "code",
   "execution_count": 33,
   "metadata": {
    "collapsed": false
   },
   "outputs": [
    {
     "data": {
      "image/png": "[encoded data removed]",
      "text/plain": [
       "<matplotlib.figure.Figure at 0x7fc7f3877690>"
      ]
     },
     "metadata": {},
     "output_type": "display_data"
    },
    {
     "data": {
      "text/plain": [
       "0.071881806500767961"
      ]
     },
     "execution_count": 33,
     "metadata": {},
     "output_type": "execute_result"
    }
   ],
   "source": [
    "plt.plot(t, x, '-bx')\n",
    "plt.plot(t, yr, '-ro')\n",
    "window = np.zeros(N)\n",
    "window[:15] = 1\n",
    "yr=idct(y*window, norm='ortho')\n",
    "plt.plot(t,yr,'g+')\n",
    "plt.legend(['x', '$x_{20}$', '$x_{15}$'])\n",
    "plt.grid()\n",
    "plt.show()\n",
    "sum(abs(x-yr)**2) / sum(abs(x)**2)\n"
   ]
  },
  {
   "cell_type": "code",
   "execution_count": null,
   "metadata": {
    "collapsed": true
   },
   "outputs": [],
   "source": []
  }
 ],
 "metadata": {
  "kernelspec": {
   "display_name": "Python 2",
   "language": "python",
   "name": "python2"
  },
  "language_info": {
   "codemirror_mode": {
    "name": "ipython",
    "version": 2
   },
   "file_extension": ".py",
   "mimetype": "text/x-python",
   "name": "python",
   "nbconvert_exporter": "python",
   "pygments_lexer": "ipython2",
   "version": "2.7.13"
  }
 },
 "nbformat": 4,
 "nbformat_minor": 2
}
